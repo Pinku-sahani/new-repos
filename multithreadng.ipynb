{
 "cells": [
  {
   "cell_type": "markdown",
   "id": "53e15ef8-fb7f-426e-ae6f-5588f298fedc",
   "metadata": {},
   "source": [
    " Q1.what is multithreading in python? why is it used? Name the module used to handle threads in python."
   ]
  },
  {
   "cell_type": "code",
   "execution_count": 1,
   "id": "d5b9399c-48b8-4597-83b9-718dd4934fb1",
   "metadata": {},
   "outputs": [],
   "source": [
    "# Multithreading - we can talk multi procees in a sigle core so how to work multiple procees in a single core then this is solve by multithredaing.\n",
    "# used - I want to run multiple programs inside single core this this use.\n",
    "# name os the module - 'import threading'"
   ]
  },
  {
   "cell_type": "markdown",
   "id": "e028f23d-948c-4695-82bb-565d5e97ed72",
   "metadata": {},
   "source": [
    "Q2. why threading module used? write the use of the following functions\n",
    "( activeCount\n",
    " currentThread\n",
    " enumerate)"
   ]
  },
  {
   "cell_type": "code",
   "execution_count": 24,
   "id": "b7fc7663-9241-4ce9-8c4e-e1dbd1dbb824",
   "metadata": {},
   "outputs": [],
   "source": [
    "# 1. activeCount \n",
    "# Program - \n",
    "import threading\n",
    "def data(id):\n",
    "    print(\"prog start %d\" %id)"
   ]
  },
  {
   "cell_type": "code",
   "execution_count": 25,
   "id": "4ae5c1c0-623a-4383-8184-8a49edc8ad26",
   "metadata": {},
   "outputs": [
    {
     "name": "stdout",
     "output_type": "stream",
     "text": [
      "prog start 5\n"
     ]
    }
   ],
   "source": [
    "data(5)"
   ]
  },
  {
   "cell_type": "code",
   "execution_count": 28,
   "id": "5ab70e78-04ec-4b3e-a136-4b3d3bd0e1df",
   "metadata": {},
   "outputs": [],
   "source": [
    "thread =[ threading.Thread(target=data,args=(i, )) for i in range(10)]"
   ]
  },
  {
   "cell_type": "code",
   "execution_count": 29,
   "id": "39b0e82b-5f22-4798-b289-4155fc037ebf",
   "metadata": {},
   "outputs": [
    {
     "name": "stdout",
     "output_type": "stream",
     "text": [
      "prog start 0\n",
      "prog start 1\n",
      "prog start 2\n",
      "prog start 3\n",
      "prog start 4\n",
      "prog start 5\n",
      "prog start 6\n",
      "prog start 7\n",
      "prog start 8\n",
      "prog start 9\n"
     ]
    }
   ],
   "source": [
    "for i in thread:\n",
    "    i.start()"
   ]
  },
  {
   "cell_type": "code",
   "execution_count": null,
   "id": "441fd819-3e49-40bd-aec7-4a720a787b78",
   "metadata": {},
   "outputs": [],
   "source": []
  },
  {
   "cell_type": "code",
   "execution_count": 40,
   "id": "a66320ac-ffa7-4cae-ad3e-f043943558cb",
   "metadata": {},
   "outputs": [],
   "source": [
    "# 2 - currentThread\n",
    "# Program"
   ]
  },
  {
   "cell_type": "code",
   "execution_count": 53,
   "id": "607a4c9c-b895-40b5-9cef-43a96254bc6c",
   "metadata": {},
   "outputs": [],
   "source": [
    "import threading\n",
    "def my(data):\n",
    "    print(\"Current thread %d\" %data)"
   ]
  },
  {
   "cell_type": "code",
   "execution_count": 54,
   "id": "45bd1dfc-e6fd-4ca6-aca4-a8ce7efdba07",
   "metadata": {},
   "outputs": [
    {
     "name": "stdout",
     "output_type": "stream",
     "text": [
      "prog start 3\n"
     ]
    }
   ],
   "source": [
    "data(3)"
   ]
  },
  {
   "cell_type": "code",
   "execution_count": 57,
   "id": "f1f2b1c0-1a0b-4c04-bdf8-9779713c4756",
   "metadata": {},
   "outputs": [],
   "source": [
    "thread =[ threading.Thread(target=my,args=(i, )) for i in range(1)]"
   ]
  },
  {
   "cell_type": "code",
   "execution_count": 58,
   "id": "b69846e9-c0a1-4f7d-aca3-d8cb5c315b69",
   "metadata": {},
   "outputs": [
    {
     "name": "stdout",
     "output_type": "stream",
     "text": [
      "Current thread 0\n"
     ]
    }
   ],
   "source": [
    "for z in thread:\n",
    "    z.start()"
   ]
  },
  {
   "cell_type": "code",
   "execution_count": null,
   "id": "bd74f434-03e9-4508-b468-6dd3d489673b",
   "metadata": {},
   "outputs": [],
   "source": []
  },
  {
   "cell_type": "code",
   "execution_count": 68,
   "id": "e18d1277-fe45-473c-8a7e-313927ae102b",
   "metadata": {},
   "outputs": [],
   "source": [
    "# 3 - enumerate\n",
    "# program\n",
    "\n",
    "import threading\n",
    "def my_data(one_to_one):\n",
    "    print(\"One to one data represent %d\" %one_to_one)"
   ]
  },
  {
   "cell_type": "code",
   "execution_count": 69,
   "id": "01349527-e078-419f-b2a3-c5d14a83689f",
   "metadata": {},
   "outputs": [
    {
     "name": "stdout",
     "output_type": "stream",
     "text": [
      "One to one data represent 4\n"
     ]
    }
   ],
   "source": [
    "my_data(4)"
   ]
  },
  {
   "cell_type": "code",
   "execution_count": 71,
   "id": "9fe27541-b07e-4d4e-844e-bc204b26463f",
   "metadata": {},
   "outputs": [],
   "source": [
    "thread =[ threading.Thread(target=my_data,args=(i, )) for i in range(10)]"
   ]
  },
  {
   "cell_type": "code",
   "execution_count": 73,
   "id": "7f3cf57f-802b-4003-b901-0f6afe6357c1",
   "metadata": {},
   "outputs": [
    {
     "name": "stdout",
     "output_type": "stream",
     "text": [
      "One to one data represent 0\n",
      "One to one data represent 1\n",
      "One to one data represent 2\n",
      "One to one data represent 3\n",
      "One to one data represent 4\n",
      "One to one data represent 5\n",
      "One to one data represent 6\n",
      "One to one data represent 7\n",
      "One to one data represent 8\n",
      "One to one data represent 9\n"
     ]
    }
   ],
   "source": [
    "for y in thread:\n",
    "    y.start()"
   ]
  },
  {
   "cell_type": "markdown",
   "id": "abce560d-0b63-48f9-a7df-1e805f09153c",
   "metadata": {},
   "source": [
    "3. Explain the following functions\n",
    "( run()   ,\n",
    " start()   ,\n",
    " join()   ,\n",
    "' isAlive)"
   ]
  },
  {
   "cell_type": "code",
   "execution_count": 74,
   "id": "f16b388a-9620-4627-933e-376ebc2a8ce7",
   "metadata": {},
   "outputs": [],
   "source": [
    "# run() - run is the multiple threead run in the one time\n",
    "# start() - start funtion is the start multi thread , \n",
    "# join() - cannot join thread before it is started\n",
    "# isAlive() - 'Thread' object has no attribute 'isAlive'"
   ]
  },
  {
   "cell_type": "markdown",
   "id": "45ee0399-36ed-46a6-864e-86d89d9d2374",
   "metadata": {},
   "source": [
    "4. write a python program to create two threads. Thread one must print the list of squares and thread\n",
    "two must print the list of cubes"
   ]
  },
  {
   "cell_type": "code",
   "execution_count": 83,
   "id": "a922defa-61bb-48f9-a1a3-1f6eedb65348",
   "metadata": {},
   "outputs": [
    {
     "name": "stdout",
     "output_type": "stream",
     "text": [
      "prog start 0\n",
      "prog start 1\n",
      "prog start 4\n",
      "prog start 9\n",
      "prog start 16\n",
      "prog start 25\n",
      "prog start 36\n",
      "prog start 49\n",
      "prog start 64\n",
      "prog start 81\n"
     ]
    }
   ],
   "source": [
    "# 1 Program\n",
    "import threading\n",
    "def data(thread):\n",
    "    print(\"prog start %d\" %thread**2)\n",
    "    \n",
    "\n",
    "thread =[ threading.Thread(target=data,args=(i, )) for i in range(10)]\n",
    "for i in thread:\n",
    "    i.start()"
   ]
  },
  {
   "cell_type": "code",
   "execution_count": 84,
   "id": "7f1aac01-b7fd-4ec0-b4e6-e0c8cf4b5cb1",
   "metadata": {},
   "outputs": [
    {
     "name": "stdout",
     "output_type": "stream",
     "text": [
      "prog start 0\n",
      "prog start 1\n",
      "prog start 8\n",
      "prog start 27\n",
      "prog start 64\n",
      "prog start 125\n",
      "prog start 216\n",
      "prog start 343\n",
      "prog start 512\n",
      "prog start 729\n"
     ]
    }
   ],
   "source": [
    "# 2 Program\n",
    "import threading\n",
    "def data(thread):\n",
    "    print(\"prog start %d\" %thread**3)\n",
    "    \n",
    "\n",
    "thread =[ threading.Thread(target=data,args=(i, )) for i in range(10)]\n",
    "for i in thread:\n",
    "    i.start()"
   ]
  },
  {
   "cell_type": "markdown",
   "id": "b07a1cf8-9bd7-4465-9326-e91cfe1b8dc6",
   "metadata": {},
   "source": [
    "5. State advantages and disadvantages of multithreading"
   ]
  },
  {
   "cell_type": "code",
   "execution_count": null,
   "id": "4a60645d-0e8a-4cad-a7ae-a598285a5714",
   "metadata": {},
   "outputs": [],
   "source": [
    "# Advangates -\n",
    "# multithreading one time call then perform mylti time.\n",
    "# multithreading is a good module in python this is availabe in only python\n",
    "# multithreading always time call in the single core write then perform multi time \n",
    "\n",
    "\n",
    "\n",
    "\n",
    "# disadvanteges - \n",
    "# 1. The complexity increases with the increase in the number of threads\n",
    "# 2. It is necessary to maintain synchronization while sharing the resources among multiple threads\n",
    "# 3. It is difficult to debug the programs with threads as the result is sometimes unpredictable.\n",
    "# 4. The process of constructing and synchronizing the threads is CPU/memory intensive."
   ]
  },
  {
   "cell_type": "markdown",
   "id": "70363958-0784-48be-a596-db9feea6da03",
   "metadata": {},
   "source": [
    "6. Explain deadlocks and race conditions."
   ]
  },
  {
   "cell_type": "code",
   "execution_count": 85,
   "id": "0f9fc71b-0417-49ad-ad85-5cdb79a1294e",
   "metadata": {},
   "outputs": [],
   "source": [
    "# race condition -\n",
    "# Race conditions occur when a software program depends on the timing of one or more procedures to function correctly.\n",
    "# If a thread runs or terminates at an unexpected time, it may cause unpredictable behavior, such as incorrect output or program deadlock."
   ]
  },
  {
   "cell_type": "code",
   "execution_count": null,
   "id": "4cc5a41f-5875-4f65-a4cf-84fe7d5e8776",
   "metadata": {},
   "outputs": [],
   "source": [
    " # deadlocks - \n",
    " #    Deadlock is the condition in which two or more processes fight for only one resource, due to which no one is able to access the resource."
   ]
  }
 ],
 "metadata": {
  "kernelspec": {
   "display_name": "Python 3 (ipykernel)",
   "language": "python",
   "name": "python3"
  },
  "language_info": {
   "codemirror_mode": {
    "name": "ipython",
    "version": 3
   },
   "file_extension": ".py",
   "mimetype": "text/x-python",
   "name": "python",
   "nbconvert_exporter": "python",
   "pygments_lexer": "ipython3",
   "version": "3.10.8"
  }
 },
 "nbformat": 4,
 "nbformat_minor": 5
}
